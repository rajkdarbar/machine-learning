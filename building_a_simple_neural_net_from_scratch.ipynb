{
  "nbformat": 4,
  "nbformat_minor": 0,
  "metadata": {
    "colab": {
      "provenance": [],
      "collapsed_sections": [],
      "mount_file_id": "1tGurMrWBjf2RP7zcBBYhwSRmCGuN4B3w",
      "authorship_tag": "ABX9TyPz3XipB6qLgV6OY2n5Gwop",
      "include_colab_link": true
    },
    "kernelspec": {
      "name": "python3",
      "display_name": "Python 3"
    },
    "language_info": {
      "name": "python"
    }
  },
  "cells": [
    {
      "cell_type": "markdown",
      "metadata": {
        "id": "view-in-github",
        "colab_type": "text"
      },
      "source": [
        "<a href=\"https://colab.research.google.com/github/rajkdarbar/machine-learning/blob/main/building_a_simple_neural_net_from_scratch.ipynb\" target=\"_parent\"><img src=\"https://colab.research.google.com/assets/colab-badge.svg\" alt=\"Open In Colab\"/></a>"
      ]
    },
    {
      "cell_type": "markdown",
      "source": [
        "# **building a neural network from scratch using only numpy library**\n",
        "\n",
        "It took me a while to understand the backpropagation step. Here is a list of references that helped me in this learning process:\n",
        "\n",
        "*   [Backpropagation Intuition](https://www.youtube.com/watch?v=yXcQ4B-YSjQ&list=PLkDaE6sCZn6Ec-XTbcX1uRg2_u4xOEky0&index=35&ab_channel=DeepLearningAI)\n",
        "*   [A Step by Step Backpropagation Example](https://mattmazur.com/2015/03/17/a-step-by-step-backpropagation-example/)\n",
        "*   [Basics of Deep Learning Part 13: Implementing the Backpropagation Algorithm with NumPy](https://www.youtube.com/watch?v=ZVi647MYeXU&list=PLPOTBrypY74wOpTIWQhqNdfV5gIt1h1fa&index=15&ab_channel=SebastianMantey)\n",
        "*   [Building a Neural Network from scratch: MNIST Project](https://www.youtube.com/watch?v=0idoEomDc9E&ab_channel=MLForNerds)"
      ],
      "metadata": {
        "id": "-zcm1XdApKwO"
      }
    },
    {
      "cell_type": "code",
      "source": [
        "import numpy as np\n",
        "import matplotlib.pyplot as plt"
      ],
      "metadata": {
        "id": "4jcR6hIIpNEL"
      },
      "execution_count": null,
      "outputs": []
    },
    {
      "cell_type": "code",
      "source": [
        "# load training data from google drive\n",
        "\n",
        "train_file = open(\"/content/drive/MyDrive/mnist dataset/mnist_train.csv\", 'r')\n",
        "train_list = train_file.readlines()\n",
        "train_list = train_list\n",
        "train_file.close()\n",
        "\n",
        "print(len(train_list))"
      ],
      "metadata": {
        "colab": {
          "base_uri": "https://localhost:8080/"
        },
        "id": "0hFYWxwo90bW",
        "outputId": "db8e6066-4f68-44c0-bf90-8f202f6ea032"
      },
      "execution_count": null,
      "outputs": [
        {
          "output_type": "stream",
          "name": "stdout",
          "text": [
            "60000\n"
          ]
        }
      ]
    },
    {
      "cell_type": "code",
      "source": [
        "train_list[0]"
      ],
      "metadata": {
        "colab": {
          "base_uri": "https://localhost:8080/",
          "height": 105
        },
        "id": "_3feZ9ot_kY7",
        "outputId": "8801382c-6e4c-491c-ec35-b13631fb35c7"
      },
      "execution_count": null,
      "outputs": [
        {
          "output_type": "execute_result",
          "data": {
            "text/plain": [
              "'5,0,0,0,0,0,0,0,0,0,0,0,0,0,0,0,0,0,0,0,0,0,0,0,0,0,0,0,0,0,0,0,0,0,0,0,0,0,0,0,0,0,0,0,0,0,0,0,0,0,0,0,0,0,0,0,0,0,0,0,0,0,0,0,0,0,0,0,0,0,0,0,0,0,0,0,0,0,0,0,0,0,0,0,0,0,0,0,0,0,0,0,0,0,0,0,0,0,0,0,0,0,0,0,0,0,0,0,0,0,0,0,0,0,0,0,0,0,0,0,0,0,0,0,0,0,0,0,0,0,0,0,0,0,0,0,0,0,0,0,0,0,0,0,0,0,0,0,0,0,0,0,0,3,18,18,18,126,136,175,26,166,255,247,127,0,0,0,0,0,0,0,0,0,0,0,0,30,36,94,154,170,253,253,253,253,253,225,172,253,242,195,64,0,0,0,0,0,0,0,0,0,0,0,49,238,253,253,253,253,253,253,253,253,251,93,82,82,56,39,0,0,0,0,0,0,0,0,0,0,0,0,18,219,253,253,253,253,253,198,182,247,241,0,0,0,0,0,0,0,0,0,0,0,0,0,0,0,0,0,0,80,156,107,253,253,205,11,0,43,154,0,0,0,0,0,0,0,0,0,0,0,0,0,0,0,0,0,0,0,14,1,154,253,90,0,0,0,0,0,0,0,0,0,0,0,0,0,0,0,0,0,0,0,0,0,0,0,0,0,139,253,190,2,0,0,0,0,0,0,0,0,0,0,0,0,0,0,0,0,0,0,0,0,0,0,0,0,11,190,253,70,0,0,0,0,0,0,0,0,0,0,0,0,0,0,0,0,0,0,0,0,0,0,0,0,0,35,241,225,160,108,1,0,0,0,0,0,0,0,0,0,0,0,0,0,0,0,0,0,0,0,0,0,0,0,81,240,253,253,119,25,0,0,0,0,0,0,0,0,0,0,0,0,0,0,0,0,0,0,0,0,0,0,0,45,186,253,253,150,27,0,0,0,0,0,0,0,0,0,0,0,0,0,0,0,0,0,0,0,0,0,0,0,16,93,252,253,187,0,0,0,0,0,0,0,0,0,0,0,0,0,0,0,0,0,0,0,0,0,0,0,0,0,249,253,249,64,0,0,0,0,0,0,0,0,0,0,0,0,0,0,0,0,0,0,0,0,0,46,130,183,253,253,207,2,0,0,0,0,0,0,0,0,0,0,0,0,0,0,0,0,0,0,0,39,148,229,253,253,253,250,182,0,0,0,0,0,0,0,0,0,0,0,0,0,0,0,0,0,0,24,114,221,253,253,253,253,201,78,0,0,0,0,0,0,0,0,0,0,0,0,0,0,0,0,0,23,66,213,253,253,253,253,198,81,2,0,0,0,0,0,0,0,0,0,0,0,0,0,0,0,0,18,171,219,253,253,253,253,195,80,9,0,0,0,0,0,0,0,0,0,0,0,0,0,0,0,0,55,172,226,253,253,253,253,244,133,11,0,0,0,0,0,0,0,0,0,0,0,0,0,0,0,0,0,0,136,253,253,253,212,135,132,16,0,0,0,0,0,0,0,0,0,0,0,0,0,0,0,0,0,0,0,0,0,0,0,0,0,0,0,0,0,0,0,0,0,0,0,0,0,0,0,0,0,0,0,0,0,0,0,0,0,0,0,0,0,0,0,0,0,0,0,0,0,0,0,0,0,0,0,0,0,0,0,0,0,0,0,0,0,0,0,0,0,0,0,0,0,0,0,0,0,0,0,0,0,0,0,0,0,0,0,0\\n'"
            ],
            "application/vnd.google.colaboratory.intrinsic+json": {
              "type": "string"
            }
          },
          "metadata": {},
          "execution_count": 82
        }
      ]
    },
    {
      "cell_type": "code",
      "source": [
        "values = train_list[0].split(\",\")\n",
        "image_array = np.asfarray(values[1:]).reshape(28,28)\n",
        "plt.imshow(image_array, cmap='Greys', interpolation='None')"
      ],
      "metadata": {
        "colab": {
          "base_uri": "https://localhost:8080/",
          "height": 282
        },
        "id": "tDwc95BCAwx-",
        "outputId": "cd98ac6d-f6c7-45a5-bf39-75f7f06394a6"
      },
      "execution_count": null,
      "outputs": [
        {
          "output_type": "execute_result",
          "data": {
            "text/plain": [
              "<matplotlib.image.AxesImage at 0x7fbb84336210>"
            ]
          },
          "metadata": {},
          "execution_count": 83
        },
        {
          "output_type": "display_data",
          "data": {
            "text/plain": [
              "<Figure size 432x288 with 1 Axes>"
            ],
            "image/png": "[encoded data removed]"
          },
          "metadata": {
            "needs_background": "light"
          }
        }
      ]
    },
    {
      "cell_type": "code",
      "source": [
        "# load test data from google drive\n",
        "test_file = open(\"/content/drive/MyDrive/mnist dataset/mnist_test.csv\", 'r')\n",
        "test_list = test_file.readlines()\n",
        "test_file.close()\n",
        "\n",
        "print(len(test_list))"
      ],
      "metadata": {
        "colab": {
          "base_uri": "https://localhost:8080/"
        },
        "id": "84wDLL3-C5Yv",
        "outputId": "08bba689-4474-4c47-d68f-1a88966fb9b9"
      },
      "execution_count": null,
      "outputs": [
        {
          "output_type": "stream",
          "name": "stdout",
          "text": [
            "10000\n"
          ]
        }
      ]
    },
    {
      "cell_type": "code",
      "source": [
        "# create a neural network with two hidden layes\n",
        "\n",
        "class DNN:\n",
        "\n",
        "  def __init__(self, sizes, epochs, lr):\n",
        "    self.sizes = sizes\n",
        "    self.epochs = epochs\n",
        "    self.lr = lr\n",
        "\n",
        "    input_layer = sizes[0]\n",
        "    hidden_layer_1 = sizes[1]\n",
        "    hidden_layer_2 = sizes[2]\n",
        "    output_layer = sizes[3]\n",
        "    \n",
        "    np.random.seed(1)\n",
        "    self.W1 = np.random.randn(hidden_layer_1, input_layer) * np.sqrt(1 / hidden_layer_1) # 32x784\n",
        "\n",
        "    np.random.seed(2)\n",
        "    self.W2 = np.random.randn(hidden_layer_2, hidden_layer_1) * np.sqrt(1 / hidden_layer_2) # 16x32\n",
        "\n",
        "    np.random.seed(3)\n",
        "    self.W3 = np.random.randn(output_layer, hidden_layer_2) * np.sqrt(1 / output_layer) # 10x16\n",
        "\n",
        "\n",
        "  def sigmoid(self, x, derivative = False):\n",
        "    if derivative:\n",
        "      return (np.exp(-x))/((np.exp(-x)+1)**2)\n",
        "    return 1/(1 + np.exp(-x))\n",
        "\n",
        "\n",
        "  def softmax(self, x, derivative = False):\n",
        "    exps = np.exp(x - x.max()) # Numerically stable with large exponentials\n",
        "    if derivative:\n",
        "      return exps / np.sum(exps, axis = 0) * (1 - exps / np.sum(exps, axis = 0))\n",
        "    return exps / np.sum(exps, axis = 0)\n",
        "\n",
        "\n",
        "  def categorical_cross_entropy_loss(self, y_true, y_pred):\n",
        "    return -np.sum(y_true * np.log(y_pred))\n",
        "\n",
        "\n",
        "  def feedforward(self, x_train):\n",
        "    # input layer to hidden layer 1\n",
        "    self.Z1 = np.dot(self.W1, x_train)\n",
        "    self.A1 = self.sigmoid(self.Z1)  \n",
        "\n",
        "    # hidden layer 1 to hidden layer 2\n",
        "    self.Z2 = np.dot(self.W2, self.A1)\n",
        "    self.A2 = self.sigmoid(self.Z2)\n",
        "\n",
        "    # hidden layer 2 to output layer\n",
        "    self.Z3 = np.dot(self.W3, self.A2)    \n",
        "    self.A3 = self.softmax(self.Z3) # softmax activation\n",
        "    return self.A3\n",
        "\n",
        "\n",
        "  def backpropagation(self, x_train, y_train, output):\n",
        "    # calculate W3 update\n",
        "    error = 2 * (output - y_train) / output.shape[0] * self.softmax(self.Z3, derivative = True) # output.shape[0] = 10 in our case\n",
        "    change_w3 = np.outer(error, self.A2) \n",
        "\n",
        "    # calculate W2 update\n",
        "    error = np.dot(self.W3.T, error) * self.sigmoid(self.Z2, derivative = True)\n",
        "    change_w2 = np.outer(error, self.A1)\n",
        "\n",
        "    # calculate W1 update\n",
        "    error = np.dot(self.W2.T, error) * self.sigmoid(self.Z1, derivative = True)\n",
        "    change_w1 = np.outer(error, x_train)\n",
        "\n",
        "    # update all weights\n",
        "    self.W3 -= self.lr * change_w3\n",
        "    self.W2 -= self.lr * change_w2\n",
        "    self.W1 -= self.lr * change_w1\n",
        "\n",
        "\n",
        "  def train(self, train_list, output_nodes):\n",
        "    for iteration in range(self.epochs):\n",
        "      predictions = []\n",
        "      loss_dict = []\n",
        "\n",
        "      for x in train_list:\n",
        "        img_values = x.split(',')\n",
        "        # scale and shift the inputs\n",
        "        input = ((np.asfarray(img_values[1:]) / 255.0) * 0.99) + 0.01        \n",
        "\n",
        "        # output_nodes represents the number of nodes at the output layer\n",
        "        target = np.zeros(output_nodes) + 0.01 \n",
        "        # image_values[0] is the target label for this sample\n",
        "        target[int(img_values[0])] = 0.99 \n",
        "\n",
        "        output = self.feedforward(input) # output from feedforward pass\n",
        "        self.backpropagation(input, target, output)\n",
        "\n",
        "        pred = np.argmax(output)\n",
        "        predictions.append(pred == np.argmax(target))\n",
        "\n",
        "        # calculating loss per epoch\n",
        "        loss = self.categorical_cross_entropy_loss(target, output)\n",
        "        loss_dict.append(loss)\n",
        "\n",
        "      train_accuracy = np.mean(predictions)\n",
        "      train_loss = np.mean(loss_dict)\n",
        "      print (f'Epoch: {iteration}  | Train Loss: {train_loss} | Train Acc: {train_accuracy}')\n",
        "\n",
        "\n",
        "  def prediction_test_data(self, test_list, output_nodes):\n",
        "    predictions = []\n",
        "\n",
        "    for x in test_list:\n",
        "      img_values = x.split(',')\n",
        "      input = ((np.asfarray(img_values[1:]) / 255.0) * 0.99) + 0.01 \n",
        "      target = np.zeros(output_nodes) + 0.01 \n",
        "      target[int(img_values[0])] = 0.99 \n",
        "\n",
        "      output = self.feedforward(input)\n",
        "      pred = np.argmax(output)\n",
        "      predictions.append(pred == np.argmax(target))\n",
        "\n",
        "    test_accuracy = np.mean(predictions) \n",
        "    print('Test accuracy is: ', test_accuracy)\n"
      ],
      "metadata": {
        "id": "dOyr-tcYD5Ip"
      },
      "execution_count": null,
      "outputs": []
    },
    {
      "cell_type": "code",
      "source": [
        "dnn = DNN(sizes = [784, 32, 16, 10], epochs = 3, lr = 0.01)\n",
        "dnn.train(train_list, 10)\n",
        "dnn.prediction_test_data(test_list, 10)"
      ],
      "metadata": {
        "id": "_ibe4y5zv8GQ",
        "colab": {
          "base_uri": "https://localhost:8080/"
        },
        "outputId": "f69d8bee-bbd6-43ce-caaa-8158cb2290d0"
      },
      "execution_count": null,
      "outputs": [
        {
          "output_type": "stream",
          "name": "stdout",
          "text": [
            "Epoch: 0  | Train Loss: 2.518600072737604 | Train Acc: 0.20333333333333334\n",
            "Epoch: 1  | Train Loss: 2.335114888961107 | Train Acc: 0.25248333333333334\n",
            "Epoch: 2  | Train Loss: 2.105651922609091 | Train Acc: 0.3829\n",
            "Test accuracy is:  0.4587\n"
          ]
        }
      ]
    }
  ]
}